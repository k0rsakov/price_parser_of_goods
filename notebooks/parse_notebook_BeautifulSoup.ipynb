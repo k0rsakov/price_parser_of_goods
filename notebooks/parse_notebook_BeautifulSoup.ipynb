{
 "cells": [
  {
   "cell_type": "code",
   "execution_count": 1,
   "id": "d4a4f20b-9eb7-4061-915f-ae9fa5d9ffcf",
   "metadata": {},
   "outputs": [],
   "source": [
    "import requests\n",
    "from bs4 import BeautifulSoup\n",
    "from fake_useragent import UserAgent"
   ]
  },
  {
   "cell_type": "code",
   "execution_count": 2,
   "id": "6dfa1316-33b2-4da6-8e96-71304a1b24d4",
   "metadata": {},
   "outputs": [],
   "source": [
    "ua = UserAgent()"
   ]
  },
  {
   "cell_type": "code",
   "execution_count": 3,
   "id": "ce6f51a7-6caf-4f2c-90b4-a756d578b8ce",
   "metadata": {},
   "outputs": [],
   "source": [
    "iRegionSectionId=11320 # Irkutsk\n",
    "iRegionSectionId=11294 # Krasnoyarsk\n",
    "city_code = 11320"
   ]
  },
  {
   "cell_type": "code",
   "execution_count": 4,
   "id": "e6d468bd-a000-4f56-b357-8de1f030e8be",
   "metadata": {},
   "outputs": [],
   "source": [
    "headers = {\n",
    "    'Accept': 'text/html,application/xhtml+xml,application/xml;q=0.9,image/avif,image/webp,image/apng,*/*;q=0.8,application/signed-exchange;v=b3;q=0.9',\n",
    "    'User-Agent': ua.random\n",
    "}"
   ]
  },
  {
   "cell_type": "code",
   "execution_count": 5,
   "id": "b46414a2-c549-45a6-b4d6-a2024abb6c92",
   "metadata": {},
   "outputs": [],
   "source": [
    "url = 'https://www.eldorado.ru/c/smartfony/b/APPLE/?page=1'"
   ]
  },
  {
   "cell_type": "code",
   "execution_count": 6,
   "id": "03697da1-3036-49d7-be48-772ad01796e4",
   "metadata": {},
   "outputs": [],
   "source": [
    "cookies = {\n",
    "    'iRegionSectionId' : f'{city_code}' \n",
    "}"
   ]
  },
  {
   "cell_type": "code",
   "execution_count": 7,
   "id": "a24d2982-b1c9-4dcf-9f64-71a7f1a66c3f",
   "metadata": {},
   "outputs": [],
   "source": [
    "response = requests.get(url=url, headers=headers, cookies=cookies)"
   ]
  },
  {
   "cell_type": "code",
   "execution_count": 8,
   "id": "9405d273-6655-45e7-bd25-7e655cf8035f",
   "metadata": {},
   "outputs": [
    {
     "data": {
      "text/plain": [
       "<Response [503]>"
      ]
     },
     "execution_count": 8,
     "metadata": {},
     "output_type": "execute_result"
    }
   ],
   "source": [
    "response"
   ]
  },
  {
   "cell_type": "code",
   "execution_count": 55,
   "id": "0ac53345-70b5-4e33-82fe-2c699fd2c77e",
   "metadata": {},
   "outputs": [],
   "source": [
    "with open('answer_response.html', 'w') as file:\n",
    "    file.write(r.text)"
   ]
  },
  {
   "cell_type": "code",
   "execution_count": 9,
   "id": "51009703-00b0-454f-aa76-b90bf6ceb097",
   "metadata": {},
   "outputs": [],
   "source": [
    "r = requests.get(url=url)"
   ]
  },
  {
   "cell_type": "code",
   "execution_count": 10,
   "id": "c7556e48-0ce3-4038-8df4-5d86fdcf44e0",
   "metadata": {},
   "outputs": [],
   "source": [
    "soup = BeautifulSoup(r.text, 'lxml')"
   ]
  },
  {
   "cell_type": "code",
   "execution_count": 13,
   "id": "3e64d46b-c16e-4bd3-9651-af8b8653c9e8",
   "metadata": {},
   "outputs": [],
   "source": [
    "# soup"
   ]
  },
  {
   "cell_type": "code",
   "execution_count": 12,
   "id": "ef13faf3-cca8-4ddb-8c07-7602a2943311",
   "metadata": {},
   "outputs": [],
   "source": [
    "soup.find('div', class_='catalog-product ui-button-widget')"
   ]
  },
  {
   "cell_type": "code",
   "execution_count": null,
   "id": "47873961-66a2-46e2-91ea-04e9888c62ad",
   "metadata": {},
   "outputs": [],
   "source": []
  },
  {
   "cell_type": "code",
   "execution_count": null,
   "id": "a0b6823b-e757-481d-84db-7c6b53709a8b",
   "metadata": {},
   "outputs": [],
   "source": []
  }
 ],
 "metadata": {
  "kernelspec": {
   "display_name": "Python 3 (ipykernel)",
   "language": "python",
   "name": "python3"
  },
  "language_info": {
   "codemirror_mode": {
    "name": "ipython",
    "version": 3
   },
   "file_extension": ".py",
   "mimetype": "text/x-python",
   "name": "python",
   "nbconvert_exporter": "python",
   "pygments_lexer": "ipython3",
   "version": "3.9.7"
  }
 },
 "nbformat": 4,
 "nbformat_minor": 5
}
