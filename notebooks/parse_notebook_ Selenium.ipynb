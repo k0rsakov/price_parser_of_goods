{
 "cells": [
  {
   "cell_type": "markdown",
   "id": "b93cf884-93ca-492d-91f6-4c6bf6b46163",
   "metadata": {},
   "source": [
    "# Импорт библиотек"
   ]
  },
  {
   "cell_type": "code",
   "execution_count": 1,
   "id": "db69957c-93b8-4df6-af25-9b21d4b72f2a",
   "metadata": {},
   "outputs": [],
   "source": [
    "import pandas as pd\n",
    "\n",
    "from bs4 import BeautifulSoup\n",
    "from time import sleep\n",
    "from tqdm import tqdm\n",
    "\n",
    "from selenium.webdriver import Chrome\n",
    "from selenium.webdriver.chrome.service import Service\n",
    "from webdriver_manager.chrome import ChromeDriverManager\n",
    "from selenium.webdriver.common.keys import Keys\n",
    "from selenium.webdriver.support.ui import WebDriverWait as wait\n",
    "from selenium.webdriver.support import expected_conditions as EC\n",
    "from selenium.webdriver.common.by import By\n",
    "from selenium.common.exceptions import NoSuchElementException"
   ]
  },
  {
   "cell_type": "markdown",
   "id": "f03fdda8-fd97-45ab-88b3-6db6acce8c01",
   "metadata": {},
   "source": [
    "# Создание подключения к сайту"
   ]
  },
  {
   "cell_type": "code",
   "execution_count": 2,
   "id": "d7627762-ce49-4a03-a0e6-7f4730f4cb68",
   "metadata": {},
   "outputs": [],
   "source": [
    "url = 'https://www.eldorado.ru/c/smartfony/b/APPLE/?page=1'"
   ]
  },
  {
   "cell_type": "code",
   "execution_count": 5,
   "id": "cb41f1de-c079-43ad-bee2-7482a2d6feef",
   "metadata": {},
   "outputs": [
    {
     "name": "stderr",
     "output_type": "stream",
     "text": [
      "\n",
      "\n",
      "====== WebDriver manager ======\n",
      "Current google-chrome version is 101.0.4951\n",
      "Get LATEST chromedriver version for 101.0.4951 google-chrome\n",
      "Driver [/Users/ivankorsakov/.wdm/drivers/chromedriver/mac64/101.0.4951.41/chromedriver] found in cache\n"
     ]
    }
   ],
   "source": [
    "browser = Chrome(service=Service(ChromeDriverManager().install()))"
   ]
  },
  {
   "cell_type": "markdown",
   "id": "28a04739-35cd-416a-b9f3-d4e75174a4c8",
   "metadata": {},
   "source": [
    "## Подключение к сайту"
   ]
  },
  {
   "cell_type": "code",
   "execution_count": 6,
   "id": "fd9fef66-9208-449f-8106-2022e9131b79",
   "metadata": {},
   "outputs": [],
   "source": [
    "browser.get(url)"
   ]
  },
  {
   "cell_type": "markdown",
   "id": "c043d6a8-ab4c-442c-b942-b2458a41aafe",
   "metadata": {},
   "source": [
    "## Переключение на следующую страницу"
   ]
  },
  {
   "cell_type": "code",
   "execution_count": 7,
   "id": "70226b05-ba8d-4bfb-a060-a58ecf39155a",
   "metadata": {},
   "outputs": [],
   "source": [
    "pagination = True\n",
    "num=0"
   ]
  },
  {
   "cell_type": "code",
   "execution_count": null,
   "id": "f22db108-ddeb-4171-8301-6d62710213ec",
   "metadata": {},
   "outputs": [],
   "source": [
    "sleep(30)\n",
    "\n",
    "while pagination:\n",
    "    try:\n",
    "        browser.find_element(by=By.CLASS_NAME, value='Wp').click()\n",
    "    except:\n",
    "        pass\n",
    "    \n",
    "    sleep(30)"
   ]
  },
  {
   "cell_type": "code",
   "execution_count": 10,
   "id": "fb957982-be22-4147-b852-536d936e5571",
   "metadata": {},
   "outputs": [],
   "source": [
    "try:\n",
    "    browser.find_element(by=By.CLASS_NAME, value='Wp').click()\n",
    "except:\n",
    "    pass"
   ]
  },
  {
   "cell_type": "markdown",
   "id": "c7f95974-bdb4-4ffd-8753-a663f2159671",
   "metadata": {},
   "source": [
    "# Создание супа из сформированной страницы (после всех кликов)"
   ]
  },
  {
   "cell_type": "code",
   "execution_count": 11,
   "id": "2554062b-a609-49ff-8ecb-fe94cf76d191",
   "metadata": {},
   "outputs": [],
   "source": [
    "soup = BeautifulSoup(browser.page_source, 'lxml')"
   ]
  },
  {
   "cell_type": "code",
   "execution_count": 12,
   "id": "a81f5eb8-e3d1-4f46-88cb-89491934959f",
   "metadata": {},
   "outputs": [
    {
     "data": {
      "text/plain": [
       "137"
      ]
     },
     "execution_count": 12,
     "metadata": {},
     "output_type": "execute_result"
    }
   ],
   "source": [
    "list_products = soup.findAll('li', class_='bG')\n",
    "len(list_products)"
   ]
  },
  {
   "cell_type": "markdown",
   "id": "013e8d81-bdde-4045-949c-cc5ee4493fcb",
   "metadata": {},
   "source": [
    "## Создание массива с данными по каждому товару"
   ]
  },
  {
   "cell_type": "code",
   "execution_count": 27,
   "id": "11777772-683a-44de-9bb0-803379a93c81",
   "metadata": {},
   "outputs": [],
   "source": [
    "table_product = []\n",
    "\n",
    "for good in list_products:\n",
    "    # id товара\n",
    "    product_id = good.get('data-id')\n",
    "    product_id = int(product_id)\n",
    "    \n",
    "    # Ссылка на товар\n",
    "    product_href = good.find('a', class_='Ht').get('href')\n",
    "    product_href = 'https://www.eldorado.ru' + product_href\n",
    "\n",
    "    # Имя товара\n",
    "    product_title = good.find('div', class_='cG dG').find('a', class_='Ht').find('img').get('title')\n",
    "    \n",
    "    # Цена товара\n",
    "    try:\n",
    "        product_price = good.find('div', class_='cG gG').find('div', class_='undefined ZR aS').find('span', class_='dS kS').get_text(strip=True)\n",
    "        product_price = product_price.replace(' ','').replace('руб.','')\n",
    "        product_price = int(product_price)\n",
    "    except:\n",
    "        product_price = good.find('div', class_='cG gG').find('div', class_='ZR aS').find('span', class_='dS kS').get_text(strip=True)\n",
    "        product_price = product_price.replace(' ','').replace('руб.','')\n",
    "        product_price = int(product_price)\n",
    "    \n",
    "    product = [product_id, product_href, product_title, product_price]\n",
    "    \n",
    "    table_product.append(product)"
   ]
  },
  {
   "cell_type": "markdown",
   "id": "76d0083a-2cb5-4114-9f65-50d9124c36e2",
   "metadata": {},
   "source": [
    "# Тестирования и старый код."
   ]
  },
  {
   "cell_type": "code",
   "execution_count": 51,
   "id": "e0327bd4-54c8-4641-b2c2-751807ec41da",
   "metadata": {},
   "outputs": [],
   "source": [
    "# id товара\n",
    "product_id = soup.find('ul', class_='Mh').find('li', class_='bG').get('data-id')\n",
    "product_id = int(product_id)\n",
    "\n",
    "# Ссылка на товар\n",
    "product_href = soup.find('ul', class_='Mh').find('div', class_='cG dG').find('a', class_='Ht').get('href')\n",
    "product_href='https://www.eldorado.ru' + product_href\n",
    "\n",
    "# Имя товара\n",
    "product_title = soup.find('ul', class_='Mh').find('div', class_='cG dG').find('a', class_='Ht').find('img').get('title')\n",
    "\n",
    "# Цена товара\n",
    "product_price = soup.find('ul', class_='Mh').find('div', class_='cG gG').find('div', class_='undefined ZR aS').find('span', class_='dS kS').get_text(strip=True)\n",
    "product_price = product_price.replace(' ','').replace('руб.','')\n",
    "product_price = int(product_price)"
   ]
  },
  {
   "cell_type": "code",
   "execution_count": null,
   "id": "493c4779-2ed8-4b1e-93ca-9bcd65448500",
   "metadata": {},
   "outputs": [],
   "source": []
  }
 ],
 "metadata": {
  "kernelspec": {
   "display_name": "Python 3 (ipykernel)",
   "language": "python",
   "name": "python3"
  },
  "language_info": {
   "codemirror_mode": {
    "name": "ipython",
    "version": 3
   },
   "file_extension": ".py",
   "mimetype": "text/x-python",
   "name": "python",
   "nbconvert_exporter": "python",
   "pygments_lexer": "ipython3",
   "version": "3.9.7"
  },
  "toc-autonumbering": true
 },
 "nbformat": 4,
 "nbformat_minor": 5
}
