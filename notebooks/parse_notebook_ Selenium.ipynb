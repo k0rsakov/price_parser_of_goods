{
 "cells": [
  {
   "cell_type": "code",
   "execution_count": 12,
   "id": "db69957c-93b8-4df6-af25-9b21d4b72f2a",
   "metadata": {},
   "outputs": [],
   "source": [
    "from selenium.webdriver import Chrome\n",
    "from selenium.webdriver.common.keys import Keys\n",
    "from selenium.webdriver.support.ui import WebDriverWait as wait\n",
    "from selenium.webdriver.support import expected_conditions as EC\n",
    "from selenium.common.exceptions import NoSuchElementException\n",
    "\n",
    "from bs4 import BeautifulSoup\n",
    "from time import sleep\n",
    "from tqdm import tqdm"
   ]
  },
  {
   "cell_type": "code",
   "execution_count": 15,
   "id": "537456f4-e349-42cf-9f95-1e6c49f92ab8",
   "metadata": {},
   "outputs": [
    {
     "name": "stderr",
     "output_type": "stream",
     "text": [
      "/var/folders/0f/ntxh16bd6_n4w7zgcxcts17c0000gn/T/ipykernel_59837/3741791648.py:1: DeprecationWarning: executable_path has been deprecated, please pass in a Service object\n",
      "  browser = Chrome('/Users/ivankorsakov/_code/price_parser_of_goods/notebooks/chromedriver')\n"
     ]
    }
   ],
   "source": [
    "browser = Chrome('/Users/ivankorsakov/_code/price_parser_of_goods/notebooks/chromedriver')"
   ]
  },
  {
   "cell_type": "code",
   "execution_count": 16,
   "id": "d7627762-ce49-4a03-a0e6-7f4730f4cb68",
   "metadata": {},
   "outputs": [],
   "source": [
    "url = 'https://www.eldorado.ru/c/smartfony/b/APPLE/'"
   ]
  },
  {
   "cell_type": "code",
   "execution_count": null,
   "id": "f731f8f1-d02d-4906-ac42-def3318e1ac9",
   "metadata": {},
   "outputs": [],
   "source": []
  },
  {
   "cell_type": "code",
   "execution_count": 17,
   "id": "fd9fef66-9208-449f-8106-2022e9131b79",
   "metadata": {},
   "outputs": [],
   "source": [
    "browser.get(url)"
   ]
  },
  {
   "cell_type": "code",
   "execution_count": 22,
   "id": "becad94b-5daa-40bc-bfdf-577f0e029147",
   "metadata": {},
   "outputs": [],
   "source": [
    "soup = BeautifulSoup(browser.page_source, 'lxml')"
   ]
  },
  {
   "cell_type": "code",
   "execution_count": 24,
   "id": "430e2a35-6153-4931-b7e7-d398d07893f9",
   "metadata": {},
   "outputs": [],
   "source": [
    "# soup"
   ]
  },
  {
   "cell_type": "code",
   "execution_count": 21,
   "id": "a81f5eb8-e3d1-4f46-88cb-89491934959f",
   "metadata": {},
   "outputs": [
    {
     "data": {
      "text/plain": [
       "[]"
      ]
     },
     "execution_count": 21,
     "metadata": {},
     "output_type": "execute_result"
    }
   ],
   "source": [
    "soup.find_all('li', class_='bG _dylsv')"
   ]
  },
  {
   "cell_type": "code",
   "execution_count": null,
   "id": "95d7338a-b8ef-4ac9-bf1b-2ef8edaf50d5",
   "metadata": {},
   "outputs": [],
   "source": []
  },
  {
   "cell_type": "code",
   "execution_count": 108,
   "id": "e0327bd4-54c8-4641-b2c2-751807ec41da",
   "metadata": {},
   "outputs": [],
   "source": [
    "product_id = soup.find('ul', class_='Mh').find('li', class_='bG').get('data-id')\n",
    "product_id = int(product_id)"
   ]
  },
  {
   "cell_type": "code",
   "execution_count": 78,
   "id": "3b468c51-891e-4bcf-b647-471eec41baea",
   "metadata": {},
   "outputs": [],
   "source": [
    "product_href = soup.find('ul', class_='Mh').find('div', class_='cG dG').find('a', class_='Ht').get('href')"
   ]
  },
  {
   "cell_type": "code",
   "execution_count": 79,
   "id": "b2dda6bf-78c7-4ec3-8c3d-db7569ba328f",
   "metadata": {},
   "outputs": [],
   "source": [
    "product_title = soup.find('ul', class_='Mh').find('div', class_='cG dG').find('a', class_='Ht').find('img').get('title')"
   ]
  },
  {
   "cell_type": "code",
   "execution_count": 105,
   "id": "60304a22-b989-452b-ab70-cf86e5b2b6de",
   "metadata": {},
   "outputs": [],
   "source": [
    "product_price = soup.find('ul', class_='Mh').find('div', class_='cG gG').find('div', class_='undefined ZR aS').find('span', class_='dS kS').get_text(strip=True)\n",
    "product_price = product_price.replace(' ','').replace('руб.','')\n",
    "product_price = int(product_price)"
   ]
  },
  {
   "cell_type": "code",
   "execution_count": 109,
   "id": "b18a7a47-170e-4735-8417-c9702a43d5f0",
   "metadata": {},
   "outputs": [
    {
     "data": {
      "text/plain": [
       "int"
      ]
     },
     "execution_count": 109,
     "metadata": {},
     "output_type": "execute_result"
    }
   ],
   "source": [
    "type(product_id)"
   ]
  },
  {
   "cell_type": "code",
   "execution_count": 101,
   "id": "2339cf9e-f896-4752-8652-6431acd448cd",
   "metadata": {},
   "outputs": [
    {
     "data": {
      "text/plain": [
       "'80999'"
      ]
     },
     "execution_count": 101,
     "metadata": {},
     "output_type": "execute_result"
    }
   ],
   "source": [
    "product_price.replace(' ','').replace('руб.','')"
   ]
  },
  {
   "cell_type": "code",
   "execution_count": 107,
   "id": "75d1bed5-1189-4224-9ee4-18df7bdb84a6",
   "metadata": {},
   "outputs": [
    {
     "data": {
      "text/plain": [
       "80999"
      ]
     },
     "execution_count": 107,
     "metadata": {},
     "output_type": "execute_result"
    }
   ],
   "source": [
    "product_price"
   ]
  },
  {
   "cell_type": "code",
   "execution_count": null,
   "id": "0a7b2fc4-4505-4c83-ae0a-2a8cb96a17a2",
   "metadata": {},
   "outputs": [],
   "source": []
  },
  {
   "cell_type": "code",
   "execution_count": 93,
   "id": "02afa2c1-e4d3-4424-b70e-b6964ad5c228",
   "metadata": {},
   "outputs": [
    {
     "data": {
      "text/plain": [
       "['71623694',\n",
       " '/cat/detail/smartfon-apple-iphone-13-128gb-midnight-mlnw3ru-a/',\n",
       " 'Смартфон Apple iPhone 13 128GB Midnight (MLNW3RU/A)',\n",
       " '80 999руб.']"
      ]
     },
     "execution_count": 93,
     "metadata": {},
     "output_type": "execute_result"
    }
   ],
   "source": [
    "product_info = [product_id, product_href, product_title, product_price]\n",
    "product_info"
   ]
  },
  {
   "cell_type": "code",
   "execution_count": 85,
   "id": "86e7f47f-8eab-44dd-ad23-96378c7a7660",
   "metadata": {},
   "outputs": [],
   "source": [
    "# product_soup.attrs"
   ]
  },
  {
   "cell_type": "code",
   "execution_count": null,
   "id": "94736779-5639-46f5-af73-003ad36188c2",
   "metadata": {},
   "outputs": [],
   "source": []
  }
 ],
 "metadata": {
  "kernelspec": {
   "display_name": "Python 3 (ipykernel)",
   "language": "python",
   "name": "python3"
  },
  "language_info": {
   "codemirror_mode": {
    "name": "ipython",
    "version": 3
   },
   "file_extension": ".py",
   "mimetype": "text/x-python",
   "name": "python",
   "nbconvert_exporter": "python",
   "pygments_lexer": "ipython3",
   "version": "3.9.7"
  }
 },
 "nbformat": 4,
 "nbformat_minor": 5
}
